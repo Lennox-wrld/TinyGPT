{
 "cells": [
  {
   "cell_type": "code",
   "execution_count": 2,
   "metadata": {},
   "outputs": [
    {
     "name": "stdout",
     "output_type": "stream",
     "text": [
      "ional response and perception consciously\n",
      "practiced by the victims of white supremacy (racism)- with the objective\n",
      "· of eradicating racism at the global level. Functionally speaking, for the\n",
      "of white supremacy, this means to act in a self/group-respecting\n",
      "supporting manner in all areas of people activity, despite the specific\n",
      "conditions of racist domination and oppression. Submission to and\n",
      "·C<J<>pe~:aticm with victimization and oppression are signs of individual or\n",
      "mental illness or self-negati\n"
     ]
    },
    {
     "data": {
      "text/plain": [
       "468110"
      ]
     },
     "execution_count": 2,
     "metadata": {},
     "output_type": "execute_result"
    }
   ],
   "source": [
    "# 1. load the text data from some source(plain text, pdf, html e.g)\n",
    "\n",
    "with open('train.txt', 'r', encoding='utf-8') as f:\n",
    "    text = f.read()\n",
    "\n",
    "print(text[1000:1500])\n",
    "len(text)"
   ]
  },
  {
   "cell_type": "code",
   "execution_count": 3,
   "metadata": {},
   "outputs": [
    {
     "name": "stdout",
     "output_type": "stream",
     "text": [
      "96\n",
      "\n",
      " !\"#$%&'()*,-./0123456789:;<=>?ABCDEFGHIJKLMNOPQRSTUVWXYZ[\\]_abcdefghijklmnopqrstuvwxyz{}~£«­·•\n"
     ]
    },
    {
     "data": {
      "text/plain": [
       "list"
      ]
     },
     "execution_count": 3,
     "metadata": {},
     "output_type": "execute_result"
    }
   ],
   "source": [
    "# 2. get all unique chars in our text data\n",
    "\n",
    "char = sorted(list(set(text[:]))) # a list of a set of char in the text file --> sorted\n",
    "vocab_size = len(char)\n",
    "print(vocab_size)\n",
    "print(''.join(char))\n",
    "type(char)"
   ]
  },
  {
   "cell_type": "code",
   "execution_count": 4,
   "metadata": {},
   "outputs": [
    {
     "data": {
      "text/plain": [
       "'12345'"
      ]
     },
     "execution_count": 4,
     "metadata": {},
     "output_type": "execute_result"
    }
   ],
   "source": [
    "l = [str(i) for i in range(1, 6)]\n",
    "''.join(l)"
   ]
  },
  {
   "cell_type": "code",
   "execution_count": 5,
   "metadata": {},
   "outputs": [
    {
     "name": "stdout",
     "output_type": "stream",
     "text": [
      "[69, 66, 86, 1, 73, 66, 75, 75, 76, 85]\n",
      "[43, 36, 45, 45, 46, 55, 1, 43, 40, 42, 36, 50, 1, 44, 32, 34, 39, 40, 45, 36, 1, 43, 36, 32, 49, 45, 40, 45, 38]\n",
      "lennox likes machine learning\n"
     ]
    }
   ],
   "source": [
    "# 3. use dicts to map each unique characters to integer representation\n",
    "\n",
    "basil = {ch:i for i, ch in enumerate(char)}\n",
    "lisab = {i:ch for i, ch in enumerate(char)}\n",
    "\n",
    "enc = lambda s: [basil[c] for c in s]\n",
    "dec = lambda l: ''.join([lisab[i] for i in l])\n",
    "\n",
    "print(enc('hey lennox'))\n",
    "print(enc('lennox likes machine learning'.upper()))\n",
    "print(dec(enc('lennox likes machine learning')))"
   ]
  },
  {
   "cell_type": "code",
   "execution_count": 6,
   "metadata": {},
   "outputs": [
    {
     "name": "stdout",
     "output_type": "stream",
     "text": [
      "torch.Size([468110]) torch.LongTensor\n"
     ]
    }
   ],
   "source": [
    "# 4. create tensor repr for our input text data using pytorch\n",
    "\n",
    "import torch\n",
    "\n",
    "data = torch.tensor(enc(text), dtype=torch.long)\n",
    "print(data.shape, data.type())"
   ]
  },
  {
   "cell_type": "code",
   "execution_count": 7,
   "metadata": {},
   "outputs": [
    {
     "name": "stdout",
     "output_type": "stream",
     "text": [
      "tensor([32,  1, 64, 82, 73, 81, 82, 79, 66,  1, 64, 62, 75,  1, 63, 66,  1, 73,\n",
      "        70, 72, 66, 75, 66, 65,  1, 81, 76,  1, 62,  1, 78, 82, 70, 73, 81,  1,\n",
      "        76, 67,  1, 70, 75, 81, 79, 70, 64, 62, 81, 66,  1, 68, 66, 76, 74, 66,\n",
      "        81, 79, 70, 64, 62, 73,  1, 65, 66, 80, 70, 68, 75,  1, 70, 75,  0, 84,\n",
      "        69, 70, 64, 69,  1, 62, 73, 73,  1, 76, 67,  1, 81, 69, 66,  1, 74, 62,\n",
      "        75, 86,  1, 64, 76, 73, 76, 79, 66, 65])\n"
     ]
    }
   ],
   "source": [
    "print(f'{data[:100]}')"
   ]
  },
  {
   "cell_type": "code",
   "execution_count": 8,
   "metadata": {},
   "outputs": [],
   "source": [
    "# 5. split the data into train and test sets\n",
    "\n",
    "n = int(0.9*len(data))\n",
    "train = data[:n]\n",
    "eval = data[n:]"
   ]
  },
  {
   "cell_type": "code",
   "execution_count": 9,
   "metadata": {},
   "outputs": [
    {
     "data": {
      "text/plain": [
       "tensor([32,  1, 64, 82, 73, 81, 82, 79, 66])"
      ]
     },
     "execution_count": 9,
     "metadata": {},
     "output_type": "execute_result"
    }
   ],
   "source": [
    "block = 8\n",
    "train[:block+1]"
   ]
  },
  {
   "cell_type": "code",
   "execution_count": 10,
   "metadata": {},
   "outputs": [
    {
     "name": "stdout",
     "output_type": "stream",
     "text": [
      "when the input is tensor([32]), the target is 1\n",
      "when the input is tensor([32,  1]), the target is 64\n",
      "when the input is tensor([32,  1, 64]), the target is 82\n",
      "when the input is tensor([32,  1, 64, 82]), the target is 73\n",
      "when the input is tensor([32,  1, 64, 82, 73]), the target is 81\n",
      "when the input is tensor([32,  1, 64, 82, 73, 81]), the target is 82\n",
      "when the input is tensor([32,  1, 64, 82, 73, 81, 82]), the target is 79\n",
      "when the input is tensor([32,  1, 64, 82, 73, 81, 82, 79]), the target is 66\n"
     ]
    }
   ],
   "source": [
    "x = train[:block]\n",
    "y = train[1:block +1]\n",
    "\n",
    "for t in range(block):\n",
    "    context = x[:t+1]\n",
    "    target = y[t]\n",
    "    print(f'when the input is {context}, the target is {target}')"
   ]
  },
  {
   "cell_type": "code",
   "execution_count": 11,
   "metadata": {},
   "outputs": [
    {
     "name": "stdout",
     "output_type": "stream",
     "text": [
      "inputs:\n",
      "torch.Size([4, 8])\n",
      "tensor([[ 0, 64, 66, 75, 81, 82, 79, 86],\n",
      "        [64, 69, 70, 66, 83, 66, 65,  1],\n",
      "        [86,  1, 81, 69, 66,  1, 77, 69],\n",
      "        [79, 62, 75, 80, 73, 62, 81, 66]])\n",
      "targets:\n",
      "torch.Size([4, 8])\n",
      "tensor([[64, 66, 75, 81, 82, 79, 86, 14],\n",
      "        [69, 70, 66, 83, 66, 65,  1, 63],\n",
      "        [ 1, 81, 69, 66,  1, 77, 69, 79],\n",
      "        [62, 75, 80, 73, 62, 81, 66, 65]])\n",
      "-------\n",
      "when input is [0] the target is 64\n",
      "when input is [0, 64] the target is 66\n",
      "when input is [0, 64, 66] the target is 75\n",
      "when input is [0, 64, 66, 75] the target is 81\n",
      "when input is [0, 64, 66, 75, 81] the target is 82\n",
      "when input is [0, 64, 66, 75, 81, 82] the target is 79\n",
      "when input is [0, 64, 66, 75, 81, 82, 79] the target is 86\n",
      "when input is [0, 64, 66, 75, 81, 82, 79, 86] the target is 14\n",
      "when input is [64] the target is 69\n",
      "when input is [64, 69] the target is 70\n",
      "when input is [64, 69, 70] the target is 66\n",
      "when input is [64, 69, 70, 66] the target is 83\n",
      "when input is [64, 69, 70, 66, 83] the target is 66\n",
      "when input is [64, 69, 70, 66, 83, 66] the target is 65\n",
      "when input is [64, 69, 70, 66, 83, 66, 65] the target is 1\n",
      "when input is [64, 69, 70, 66, 83, 66, 65, 1] the target is 63\n",
      "when input is [86] the target is 1\n",
      "when input is [86, 1] the target is 81\n",
      "when input is [86, 1, 81] the target is 69\n",
      "when input is [86, 1, 81, 69] the target is 66\n",
      "when input is [86, 1, 81, 69, 66] the target is 1\n",
      "when input is [86, 1, 81, 69, 66, 1] the target is 77\n",
      "when input is [86, 1, 81, 69, 66, 1, 77] the target is 69\n",
      "when input is [86, 1, 81, 69, 66, 1, 77, 69] the target is 79\n",
      "when input is [79] the target is 62\n",
      "when input is [79, 62] the target is 75\n",
      "when input is [79, 62, 75] the target is 80\n",
      "when input is [79, 62, 75, 80] the target is 73\n",
      "when input is [79, 62, 75, 80, 73] the target is 62\n",
      "when input is [79, 62, 75, 80, 73, 62] the target is 81\n",
      "when input is [79, 62, 75, 80, 73, 62, 81] the target is 66\n",
      "when input is [79, 62, 75, 80, 73, 62, 81, 66] the target is 65\n"
     ]
    }
   ],
   "source": [
    "torch.manual_seed(42)\n",
    "\n",
    "batch = 4\n",
    "block = 8\n",
    "\n",
    "def get_batch(split):\n",
    "    data = train if split == 'train' else eval\n",
    "    ix = torch.randint(len(data) -block,(batch,))\n",
    "    x = torch.stack([data[i:i+block] for i in ix])\n",
    "    y = torch.stack([data[i+1:i+block+1] for i in ix])\n",
    "    return x, y\n",
    "\n",
    "xb, yb = get_batch('train')\n",
    "print('inputs:')\n",
    "print(xb.shape)\n",
    "print(xb)\n",
    "print('targets:')\n",
    "print(yb.shape)\n",
    "print(yb)\n",
    "print('-------')\n",
    "for b in range(batch):\n",
    "    for t in range(block):\n",
    "        context = xb[b, :t+1]\n",
    "        target = yb[b, t]\n",
    "        print(f'when input is {context.tolist()} the target is {target}')\n"
   ]
  },
  {
   "cell_type": "code",
   "execution_count": 12,
   "metadata": {},
   "outputs": [
    {
     "name": "stdout",
     "output_type": "stream",
     "text": [
      "torch.Size([32, 96])\n",
      "tensor(4.8323, grad_fn=<NllLossBackward0>)\n",
      "\n",
      ")vm7XKw\\h?OT8=G:U;UNUcGg?Ff6«9mm£>7<$~WE5i*\\Jx]?-x«cQw;p#6)z #u.Z/'\"\n",
      "sJ[=W;rM67~2£GXhO«G6rM3M:9-.u]K\n"
     ]
    }
   ],
   "source": [
    "import torch\n",
    "import torch.nn as nn\n",
    "from torch.nn import functional as F\n",
    "torch.manual_seed(43)\n",
    "\n",
    "# create a neural network by subclassing nn.Module which is the base class for building neural networks with pytorch\n",
    "class BigLangModel(nn.Module):\n",
    "    def __init__(self, vocab_size):\n",
    "        super().__init__()\n",
    "        self.token_embedding_table = nn.Embedding(vocab_size, vocab_size)\n",
    "\n",
    "    # implementing a loss function in pytorch\n",
    "\n",
    "    def forward(self, idx, targets=None):\n",
    "        logits = self.token_embedding_table(idx)\n",
    "\n",
    "        if targets is None:\n",
    "            loss = None\n",
    "\n",
    "        else:\n",
    "            B, T, C = logits.shape\n",
    "            logits = logits.view(B*T, C)\n",
    "            targets = targets.view(B*T)\n",
    "            loss = F.cross_entropy(logits, targets)\n",
    "\n",
    "        return logits, loss\n",
    "\n",
    "    def generate(self, idx, max_new_tokens):\n",
    "        for _ in range(max_new_tokens):\n",
    "            logits, loss = self(idx)\n",
    "            logits = logits[:, -1, :]\n",
    "            probs = F.softmax(logits, dim=1)\n",
    "\n",
    "            idx_next  = torch.multinomial(probs, num_samples=1)\n",
    "            idx = torch.cat((idx, idx_next), dim=1)\n",
    "\n",
    "        return idx\n",
    "    \n",
    "    \n",
    "n = BigLangModel(vocab_size)\n",
    "logits, loss = n(xb, yb)\n",
    "print(logits.shape)\n",
    "print(loss)\n",
    "\n",
    "print(dec(n.generate(idx = torch.zeros((1,1), dtype=torch.long), max_new_tokens=100)[0].tolist()))\n",
    "    "
   ]
  },
  {
   "cell_type": "code",
   "execution_count": 13,
   "metadata": {},
   "outputs": [
    {
     "name": "stderr",
     "output_type": "stream",
     "text": [
      "/home/lennox/ml_projects/ml/lib/python3.11/site-packages/tqdm/auto.py:21: TqdmWarning: IProgress not found. Please update jupyter and ipywidgets. See https://ipywidgets.readthedocs.io/en/stable/user_install.html\n",
      "  from .autonotebook import tqdm as notebook_tqdm\n"
     ]
    },
    {
     "ename": "RuntimeError",
     "evalue": "stack expects a non-empty TensorList",
     "output_type": "error",
     "traceback": [
      "\u001b[0;31m---------------------------------------------------------------------------\u001b[0m",
      "\u001b[0;31mRuntimeError\u001b[0m                              Traceback (most recent call last)",
      "Cell \u001b[0;32mIn[13], line 7\u001b[0m\n\u001b[1;32m      5\u001b[0m batch \u001b[38;5;241m=\u001b[39m \u001b[38;5;241m0\u001b[39m\n\u001b[1;32m      6\u001b[0m \u001b[38;5;28;01mfor\u001b[39;00m steps \u001b[38;5;129;01min\u001b[39;00m \u001b[38;5;28mrange\u001b[39m(\u001b[38;5;241m100\u001b[39m):\n\u001b[0;32m----> 7\u001b[0m     xb, yb \u001b[38;5;241m=\u001b[39m \u001b[43mget_batch\u001b[49m\u001b[43m(\u001b[49m\u001b[38;5;124;43m'\u001b[39;49m\u001b[38;5;124;43mtrain\u001b[39;49m\u001b[38;5;124;43m'\u001b[39;49m\u001b[43m)\u001b[49m\n\u001b[1;32m      9\u001b[0m     logits, loss \u001b[38;5;241m=\u001b[39m n(xb, yb)\n\u001b[1;32m     10\u001b[0m     opt\u001b[38;5;241m.\u001b[39mzero_grad(set_to_none\u001b[38;5;241m=\u001b[39m\u001b[38;5;28;01mTrue\u001b[39;00m)\n",
      "Cell \u001b[0;32mIn[11], line 9\u001b[0m, in \u001b[0;36mget_batch\u001b[0;34m(split)\u001b[0m\n\u001b[1;32m      7\u001b[0m data \u001b[38;5;241m=\u001b[39m train \u001b[38;5;28;01mif\u001b[39;00m split \u001b[38;5;241m==\u001b[39m \u001b[38;5;124m'\u001b[39m\u001b[38;5;124mtrain\u001b[39m\u001b[38;5;124m'\u001b[39m \u001b[38;5;28;01melse\u001b[39;00m \u001b[38;5;28meval\u001b[39m\n\u001b[1;32m      8\u001b[0m ix \u001b[38;5;241m=\u001b[39m torch\u001b[38;5;241m.\u001b[39mrandint(\u001b[38;5;28mlen\u001b[39m(data) \u001b[38;5;241m-\u001b[39mblock,(batch,))\n\u001b[0;32m----> 9\u001b[0m x \u001b[38;5;241m=\u001b[39m \u001b[43mtorch\u001b[49m\u001b[38;5;241;43m.\u001b[39;49m\u001b[43mstack\u001b[49m\u001b[43m(\u001b[49m\u001b[43m[\u001b[49m\u001b[43mdata\u001b[49m\u001b[43m[\u001b[49m\u001b[43mi\u001b[49m\u001b[43m:\u001b[49m\u001b[43mi\u001b[49m\u001b[38;5;241;43m+\u001b[39;49m\u001b[43mblock\u001b[49m\u001b[43m]\u001b[49m\u001b[43m \u001b[49m\u001b[38;5;28;43;01mfor\u001b[39;49;00m\u001b[43m \u001b[49m\u001b[43mi\u001b[49m\u001b[43m \u001b[49m\u001b[38;5;129;43;01min\u001b[39;49;00m\u001b[43m \u001b[49m\u001b[43mix\u001b[49m\u001b[43m]\u001b[49m\u001b[43m)\u001b[49m\n\u001b[1;32m     10\u001b[0m y \u001b[38;5;241m=\u001b[39m torch\u001b[38;5;241m.\u001b[39mstack([data[i\u001b[38;5;241m+\u001b[39m\u001b[38;5;241m1\u001b[39m:i\u001b[38;5;241m+\u001b[39mblock\u001b[38;5;241m+\u001b[39m\u001b[38;5;241m1\u001b[39m] \u001b[38;5;28;01mfor\u001b[39;00m i \u001b[38;5;129;01min\u001b[39;00m ix])\n\u001b[1;32m     11\u001b[0m \u001b[38;5;28;01mreturn\u001b[39;00m x, y\n",
      "\u001b[0;31mRuntimeError\u001b[0m: stack expects a non-empty TensorList"
     ]
    }
   ],
   "source": [
    "# create a pytorch optimzer\n",
    "\n",
    "opt = torch.optim.AdamW(n.parameters())\n",
    "\n",
    "batch = 0\n",
    "for steps in range(100):\n",
    "    xb, yb = get_batch('train')\n",
    "\n",
    "    logits, loss = n(xb, yb)\n",
    "    opt.zero_grad(set_to_none=True)\n",
    "    loss.backward()\n",
    "    opt.step()\n",
    "\n",
    "print(loss.items())"
   ]
  },
  {
   "cell_type": "code",
   "execution_count": null,
   "metadata": {},
   "outputs": [],
   "source": []
  }
 ],
 "metadata": {
  "kernelspec": {
   "display_name": "Python 3 (ipykernel)",
   "language": "python",
   "name": "python3"
  },
  "language_info": {
   "codemirror_mode": {
    "name": "ipython",
    "version": 3
   },
   "file_extension": ".py",
   "mimetype": "text/x-python",
   "name": "python",
   "nbconvert_exporter": "python",
   "pygments_lexer": "ipython3",
   "version": "3.11.5"
  }
 },
 "nbformat": 4,
 "nbformat_minor": 2
}
